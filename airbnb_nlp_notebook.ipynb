{
 "cells": [
  {
   "cell_type": "code",
   "execution_count": 54,
   "metadata": {},
   "outputs": [],
   "source": [
    "import pandas as pd\n",
    "import numpy as np\n",
    "\n",
    "import warnings\n",
    "warnings.filterwarnings('ignore')"
   ]
  },
  {
   "cell_type": "code",
   "execution_count": 55,
   "metadata": {},
   "outputs": [],
   "source": [
    "pd.options.display.max_rows = 200\n",
    "pd.options.display.max_columns = 200"
   ]
  },
  {
   "cell_type": "code",
   "execution_count": 56,
   "metadata": {},
   "outputs": [],
   "source": [
    "df = pd.read_csv('data/listings_summary.csv')"
   ]
  },
  {
   "cell_type": "markdown",
   "metadata": {},
   "source": [
    "# Explaining the goal:\n",
    "\n",
    "My goal is to use NLP to, given a range of suggested prices for a property, determine if the host should select a value on the higher or lower end of that range.\n",
    "\n",
    "The range of suggest prices is determined by using the XGBoost model used in the project, then plus and minus 20% of that value to get an upper and lower limit for suggested price. (20% is a little aibitrary. I found the MAE for predictions grouped by number of bedrooms. They were a little above 20%, but much higher gave too extreme of a range)\n",
    "\n",
    "The suggestion for roughly where on that range the host should aim is determined by: \n",
    "- labeling the data by whether it is above or below the median market value for a unit with that number of bedrooms (number of bedrooms was selected because it had the highest feature importance in price prediction).\n",
    "- tokenized and vectorized the descriptions of each unit, limiting myself to descriptions I'm fairly confident are mostly in English.\n",
    "- Use logistic regression to predict probability of a description being associated with a price above median market value.\n",
    "- Use that probability to give a general suggestion for where a user should aim in their price range\n"
   ]
  },
  {
   "cell_type": "markdown",
   "metadata": {},
   "source": [
    "## Restricting to columns to use NLP with"
   ]
  },
  {
   "cell_type": "code",
   "execution_count": 57,
   "metadata": {},
   "outputs": [],
   "source": [
    "df1 = df[['description','bedrooms','price']]"
   ]
  },
  {
   "cell_type": "code",
   "execution_count": 192,
   "metadata": {},
   "outputs": [
    {
     "data": {
      "text/html": [
       "<div>\n",
       "<style scoped>\n",
       "    .dataframe tbody tr th:only-of-type {\n",
       "        vertical-align: middle;\n",
       "    }\n",
       "\n",
       "    .dataframe tbody tr th {\n",
       "        vertical-align: top;\n",
       "    }\n",
       "\n",
       "    .dataframe thead th {\n",
       "        text-align: right;\n",
       "    }\n",
       "</style>\n",
       "<table border=\"1\" class=\"dataframe\">\n",
       "  <thead>\n",
       "    <tr style=\"text-align: right;\">\n",
       "      <th></th>\n",
       "      <th>description</th>\n",
       "      <th>bedrooms</th>\n",
       "      <th>price</th>\n",
       "    </tr>\n",
       "  </thead>\n",
       "  <tbody>\n",
       "    <tr>\n",
       "      <td>0</td>\n",
       "      <td>Great location!  30 of 75 sq meters. This wood...</td>\n",
       "      <td>1.0</td>\n",
       "      <td>60.0</td>\n",
       "    </tr>\n",
       "    <tr>\n",
       "      <td>1</td>\n",
       "      <td>In the summertime we are spending most of our ...</td>\n",
       "      <td>1.0</td>\n",
       "      <td>17.0</td>\n",
       "    </tr>\n",
       "    <tr>\n",
       "      <td>2</td>\n",
       "      <td>This beautiful first floor apartment  is situa...</td>\n",
       "      <td>1.0</td>\n",
       "      <td>90.0</td>\n",
       "    </tr>\n",
       "    <tr>\n",
       "      <td>3</td>\n",
       "      <td>First of all: I prefer short-notice bookings. ...</td>\n",
       "      <td>1.0</td>\n",
       "      <td>26.0</td>\n",
       "    </tr>\n",
       "    <tr>\n",
       "      <td>4</td>\n",
       "      <td>Cozy and large room in the beautiful district ...</td>\n",
       "      <td>1.0</td>\n",
       "      <td>42.0</td>\n",
       "    </tr>\n",
       "  </tbody>\n",
       "</table>\n",
       "</div>"
      ],
      "text/plain": [
       "                                         description  bedrooms  price\n",
       "0  Great location!  30 of 75 sq meters. This wood...       1.0   60.0\n",
       "1  In the summertime we are spending most of our ...       1.0   17.0\n",
       "2  This beautiful first floor apartment  is situa...       1.0   90.0\n",
       "3  First of all: I prefer short-notice bookings. ...       1.0   26.0\n",
       "4  Cozy and large room in the beautiful district ...       1.0   42.0"
      ]
     },
     "execution_count": 192,
     "metadata": {},
     "output_type": "execute_result"
    }
   ],
   "source": [
    "df1.head()"
   ]
  },
  {
   "cell_type": "markdown",
   "metadata": {},
   "source": [
    "#### 'description' is the column we'll do NLP on, 'bedrooms' was determined in the exploratory notebook to have the highest association with price, and 'price' will be used to separate descriptions into 'high' and 'low' for nlp classification"
   ]
  },
  {
   "cell_type": "markdown",
   "metadata": {},
   "source": [
    "## Cleaning Data"
   ]
  },
  {
   "cell_type": "code",
   "execution_count": 58,
   "metadata": {},
   "outputs": [],
   "source": [
    "df1['price'] = df1['price'].str.replace('$','').str.replace(',','').astype(float)"
   ]
  },
  {
   "cell_type": "code",
   "execution_count": 59,
   "metadata": {},
   "outputs": [],
   "source": [
    "df1 = df1.dropna()"
   ]
  },
  {
   "cell_type": "code",
   "execution_count": 60,
   "metadata": {},
   "outputs": [],
   "source": [
    "# I was a bit more relaxed with the limits on this one\n",
    "df1 = df1[(df1['price'] > 0) & (df1['price'] < 900)]"
   ]
  },
  {
   "cell_type": "code",
   "execution_count": 61,
   "metadata": {},
   "outputs": [
    {
     "data": {
      "text/plain": [
       "22281"
      ]
     },
     "execution_count": 61,
     "metadata": {},
     "output_type": "execute_result"
    }
   ],
   "source": [
    "len(df1)"
   ]
  },
  {
   "cell_type": "code",
   "execution_count": 62,
   "metadata": {},
   "outputs": [],
   "source": [
    "# using common words to select only rows in English\n",
    "df2 = df1[(df1['description'].str.contains(' the ')) |\\\n",
    "          (df1['description'].str.contains(' this ')) |\\\n",
    "          (df1['description'].str.contains(' and '))]"
   ]
  },
  {
   "cell_type": "code",
   "execution_count": 63,
   "metadata": {},
   "outputs": [
    {
     "data": {
      "text/plain": [
       "16169"
      ]
     },
     "execution_count": 63,
     "metadata": {},
     "output_type": "execute_result"
    }
   ],
   "source": [
    "len(df2)"
   ]
  },
  {
   "cell_type": "code",
   "execution_count": 67,
   "metadata": {},
   "outputs": [
    {
     "data": {
      "text/html": [
       "<div>\n",
       "<style scoped>\n",
       "    .dataframe tbody tr th:only-of-type {\n",
       "        vertical-align: middle;\n",
       "    }\n",
       "\n",
       "    .dataframe tbody tr th {\n",
       "        vertical-align: top;\n",
       "    }\n",
       "\n",
       "    .dataframe thead th {\n",
       "        text-align: right;\n",
       "    }\n",
       "</style>\n",
       "<table border=\"1\" class=\"dataframe\">\n",
       "  <thead>\n",
       "    <tr style=\"text-align: right;\">\n",
       "      <th></th>\n",
       "      <th>price</th>\n",
       "    </tr>\n",
       "    <tr>\n",
       "      <th>bedrooms</th>\n",
       "      <th></th>\n",
       "    </tr>\n",
       "  </thead>\n",
       "  <tbody>\n",
       "    <tr>\n",
       "      <td>0.0</td>\n",
       "      <td>50.0</td>\n",
       "    </tr>\n",
       "    <tr>\n",
       "      <td>1.0</td>\n",
       "      <td>40.0</td>\n",
       "    </tr>\n",
       "    <tr>\n",
       "      <td>2.0</td>\n",
       "      <td>80.0</td>\n",
       "    </tr>\n",
       "    <tr>\n",
       "      <td>3.0</td>\n",
       "      <td>120.0</td>\n",
       "    </tr>\n",
       "    <tr>\n",
       "      <td>4.0</td>\n",
       "      <td>150.0</td>\n",
       "    </tr>\n",
       "    <tr>\n",
       "      <td>5.0</td>\n",
       "      <td>240.0</td>\n",
       "    </tr>\n",
       "    <tr>\n",
       "      <td>6.0</td>\n",
       "      <td>349.0</td>\n",
       "    </tr>\n",
       "    <tr>\n",
       "      <td>7.0</td>\n",
       "      <td>460.0</td>\n",
       "    </tr>\n",
       "    <tr>\n",
       "      <td>8.0</td>\n",
       "      <td>584.0</td>\n",
       "    </tr>\n",
       "  </tbody>\n",
       "</table>\n",
       "</div>"
      ],
      "text/plain": [
       "          price\n",
       "bedrooms       \n",
       "0.0        50.0\n",
       "1.0        40.0\n",
       "2.0        80.0\n",
       "3.0       120.0\n",
       "4.0       150.0\n",
       "5.0       240.0\n",
       "6.0       349.0\n",
       "7.0       460.0\n",
       "8.0       584.0"
      ]
     },
     "execution_count": 67,
     "metadata": {},
     "output_type": "execute_result"
    }
   ],
   "source": [
    "df2.groupby(['bedrooms']).median()"
   ]
  },
  {
   "cell_type": "code",
   "execution_count": 70,
   "metadata": {},
   "outputs": [],
   "source": [
    "df2_0 = df2[df2['bedrooms'] == 0]\n",
    "df2_1 = df2[df2['bedrooms'] == 1]\n",
    "df2_2 = df2[df2['bedrooms'] == 2]\n",
    "df2_3 = df2[df2['bedrooms'] == 3]\n",
    "df2_4 = df2[df2['bedrooms'] == 4]\n",
    "df2_5 = df2[df2['bedrooms'] == 5]\n",
    "df2_6 = df2[df2['bedrooms'] == 6]\n",
    "df2_7 = df2[df2['bedrooms'] == 7]\n",
    "df2_8 = df2[df2['bedrooms'] == 8]"
   ]
  },
  {
   "cell_type": "code",
   "execution_count": 81,
   "metadata": {},
   "outputs": [],
   "source": [
    "df2_0['is_above_median'] = df2_0['price'].apply(lambda x: x >= df2_0['price'].median())\n",
    "df2_1['is_above_median'] = df2_1['price'].apply(lambda x: x >= df2_1['price'].median())\n",
    "df2_2['is_above_median'] = df2_2['price'].apply(lambda x: x >= df2_2['price'].median())\n",
    "df2_3['is_above_median'] = df2_3['price'].apply(lambda x: x >= df2_3['price'].median())\n",
    "df2_4['is_above_median'] = df2_4['price'].apply(lambda x: x >= df2_4['price'].median())\n",
    "df2_5['is_above_median'] = df2_5['price'].apply(lambda x: x >= df2_5['price'].median())\n",
    "df2_6['is_above_median'] = df2_6['price'].apply(lambda x: x >= df2_6['price'].median())\n",
    "df2_7['is_above_median'] = df2_7['price'].apply(lambda x: x >= df2_7['price'].median())\n",
    "df2_8['is_above_median'] = df2_8['price'].apply(lambda x: x >= df2_8['price'].median())"
   ]
  },
  {
   "cell_type": "code",
   "execution_count": 82,
   "metadata": {},
   "outputs": [],
   "source": [
    "separated_frames = [df2_0,df2_1,df2_2,df2_3,df2_4,df2_5,df2_6,df2_7,df2_8]"
   ]
  },
  {
   "cell_type": "code",
   "execution_count": 101,
   "metadata": {},
   "outputs": [],
   "source": [
    "df3 = pd.concat(separated_frames)"
   ]
  },
  {
   "cell_type": "code",
   "execution_count": 216,
   "metadata": {},
   "outputs": [],
   "source": [
    "tf_counts = df3['is_above_median'].value_counts()"
   ]
  },
  {
   "cell_type": "markdown",
   "metadata": {},
   "source": [
    "### Baseline to beat"
   ]
  },
  {
   "cell_type": "code",
   "execution_count": 219,
   "metadata": {},
   "outputs": [
    {
     "data": {
      "text/plain": [
       "0.5367060424268663"
      ]
     },
     "execution_count": 219,
     "metadata": {},
     "output_type": "execute_result"
    }
   ],
   "source": [
    "tf_counts[1] / (tf_counts[1] + tf_counts[0])"
   ]
  },
  {
   "cell_type": "code",
   "execution_count": null,
   "metadata": {},
   "outputs": [],
   "source": []
  },
  {
   "cell_type": "code",
   "execution_count": 120,
   "metadata": {},
   "outputs": [],
   "source": [
    "import re\n",
    "# cleaning the description of non-alphanumeric values\n",
    "df3['description_cleaned'] = df3['description'].apply(lambda x: re.sub(r'[^a-zA-Z ^0-9]', '', x))\n",
    "# setting the string to lowercase, then splitting to create tokens\n",
    "df3['tokens'] = df3['description_cleaned'].apply(lambda x: x.lower().split())"
   ]
  },
  {
   "cell_type": "markdown",
   "metadata": {},
   "source": [
    "## Using tfidfVectorizer\n"
   ]
  },
  {
   "cell_type": "code",
   "execution_count": 135,
   "metadata": {},
   "outputs": [],
   "source": [
    "# This sorts by reviews that are above or below median\n",
    "df3 = df3.sort_values(by='is_above_median')"
   ]
  },
  {
   "cell_type": "code",
   "execution_count": 123,
   "metadata": {},
   "outputs": [],
   "source": [
    "from sklearn.feature_extraction.text import TfidfVectorizer"
   ]
  },
  {
   "cell_type": "code",
   "execution_count": 313,
   "metadata": {},
   "outputs": [],
   "source": [
    "vectorizer = TfidfVectorizer(\n",
    "    min_df=2,\n",
    "    strip_accents = 'ascii'\n",
    ")"
   ]
  },
  {
   "cell_type": "code",
   "execution_count": 314,
   "metadata": {},
   "outputs": [],
   "source": [
    "tfidf = vectorizer.fit_transform(df3['description'])"
   ]
  },
  {
   "cell_type": "code",
   "execution_count": 315,
   "metadata": {},
   "outputs": [],
   "source": [
    "# Pickling tfidf for app\n",
    "import pickle\n",
    "pickle.dump(tfidf, open('tfidf.pkl','wb'))"
   ]
  },
  {
   "cell_type": "code",
   "execution_count": 316,
   "metadata": {},
   "outputs": [],
   "source": [
    "tfidf = tfidf.toarray()"
   ]
  },
  {
   "cell_type": "code",
   "execution_count": 317,
   "metadata": {},
   "outputs": [
    {
     "data": {
      "text/plain": [
       "(16169, 16692)"
      ]
     },
     "execution_count": 317,
     "metadata": {},
     "output_type": "execute_result"
    }
   ],
   "source": [
    "tfidf.shape"
   ]
  },
  {
   "cell_type": "code",
   "execution_count": 237,
   "metadata": {},
   "outputs": [],
   "source": [
    "words = vectorizer.get_feature_names()"
   ]
  },
  {
   "cell_type": "code",
   "execution_count": 238,
   "metadata": {},
   "outputs": [],
   "source": [
    "X = tfidf\n",
    "y = df3['is_above_median'].astype(int)"
   ]
  },
  {
   "cell_type": "code",
   "execution_count": 239,
   "metadata": {},
   "outputs": [],
   "source": [
    "from sklearn.model_selection import train_test_split"
   ]
  },
  {
   "cell_type": "code",
   "execution_count": 240,
   "metadata": {},
   "outputs": [],
   "source": [
    "X_train, X_test, y_train, y_test = train_test_split(X, y, random_state=333)"
   ]
  },
  {
   "cell_type": "code",
   "execution_count": 241,
   "metadata": {},
   "outputs": [],
   "source": [
    "from sklearn.linear_model import LogisticRegression"
   ]
  },
  {
   "cell_type": "code",
   "execution_count": 242,
   "metadata": {},
   "outputs": [],
   "source": [
    "model = LogisticRegression().fit(X_train, y_train)"
   ]
  },
  {
   "cell_type": "code",
   "execution_count": 318,
   "metadata": {},
   "outputs": [],
   "source": [
    "# Pickling logistic regression with word vectors for app\n",
    "import pickle\n",
    "pickle.dump(tfidf, open('nlp_lr_model.pkl','wb'))"
   ]
  },
  {
   "cell_type": "code",
   "execution_count": 243,
   "metadata": {},
   "outputs": [
    {
     "data": {
      "text/plain": [
       "array([[0.56343433, 0.43656567],\n",
       "       [0.6339595 , 0.3660405 ],\n",
       "       [0.91804421, 0.08195579],\n",
       "       ...,\n",
       "       [0.57899581, 0.42100419],\n",
       "       [0.38214468, 0.61785532],\n",
       "       [0.20434294, 0.79565706]])"
      ]
     },
     "execution_count": 243,
     "metadata": {},
     "output_type": "execute_result"
    }
   ],
   "source": [
    "model.predict_proba(X_test)"
   ]
  },
  {
   "cell_type": "code",
   "execution_count": 312,
   "metadata": {},
   "outputs": [
    {
     "data": {
      "text/plain": [
       "array([0, 0, 0, ..., 0, 1, 1])"
      ]
     },
     "execution_count": 312,
     "metadata": {},
     "output_type": "execute_result"
    }
   ],
   "source": [
    "model.predict(X_test)"
   ]
  },
  {
   "cell_type": "code",
   "execution_count": 245,
   "metadata": {},
   "outputs": [
    {
     "data": {
      "text/plain": [
       "0.6950284442245857"
      ]
     },
     "execution_count": 245,
     "metadata": {},
     "output_type": "execute_result"
    }
   ],
   "source": [
    "model.score(X_test, y_test)"
   ]
  },
  {
   "cell_type": "markdown",
   "metadata": {},
   "source": [
    "## Exploring tokens associated with units above and below median price"
   ]
  },
  {
   "cell_type": "code",
   "execution_count": 159,
   "metadata": {},
   "outputs": [],
   "source": [
    "import numpy as np"
   ]
  },
  {
   "cell_type": "code",
   "execution_count": 160,
   "metadata": {},
   "outputs": [],
   "source": [
    "coef = model.coef_.reshape(-1)"
   ]
  },
  {
   "cell_type": "code",
   "execution_count": 161,
   "metadata": {},
   "outputs": [
    {
     "data": {
      "text/plain": [
       "9369"
      ]
     },
     "execution_count": 161,
     "metadata": {},
     "output_type": "execute_result"
    }
   ],
   "source": [
    "np.argmax(coef)"
   ]
  },
  {
   "cell_type": "code",
   "execution_count": 163,
   "metadata": {},
   "outputs": [
    {
     "data": {
      "text/plain": [
       "'living'"
      ]
     },
     "execution_count": 163,
     "metadata": {},
     "output_type": "execute_result"
    }
   ],
   "source": [
    "words[9369]"
   ]
  },
  {
   "cell_type": "code",
   "execution_count": 173,
   "metadata": {},
   "outputs": [],
   "source": [
    "high_idx = np.argsort(coef)[-10:]"
   ]
  },
  {
   "cell_type": "code",
   "execution_count": 174,
   "metadata": {},
   "outputs": [
    {
     "data": {
      "text/plain": [
       "array([ 9423,  4643,  8240, 10137, 14748,  2527, 10103, 12481,  1648,\n",
       "        9369], dtype=int64)"
      ]
     },
     "execution_count": 174,
     "metadata": {},
     "output_type": "execute_result"
    }
   ],
   "source": [
    "high_idx"
   ]
  },
  {
   "cell_type": "code",
   "execution_count": 181,
   "metadata": {},
   "outputs": [],
   "source": [
    "low_idx = np.argsort(coef)[:10]"
   ]
  },
  {
   "cell_type": "code",
   "execution_count": 182,
   "metadata": {},
   "outputs": [
    {
     "data": {
      "text/plain": [
       "array([12656, 13305, 13304,  4659, 16092, 16671,  6145, 14444, 16213,\n",
       "        2367], dtype=int64)"
      ]
     },
     "execution_count": 182,
     "metadata": {},
     "output_type": "execute_result"
    }
   ],
   "source": [
    "low_idx"
   ]
  },
  {
   "cell_type": "code",
   "execution_count": 183,
   "metadata": {},
   "outputs": [],
   "source": [
    "words = np.array(words)"
   ]
  },
  {
   "cell_type": "code",
   "execution_count": 184,
   "metadata": {},
   "outputs": [
    {
     "data": {
      "text/plain": [
       "array(['loft', 'design', 'interior', 'modern', 'terrace', 'berlin',\n",
       "       'mitte', 'restaurants', 'apartment', 'living'], dtype='<U36')"
      ]
     },
     "execution_count": 184,
     "metadata": {},
     "output_type": "execute_result"
    }
   ],
   "source": [
    "words[high_idx]"
   ]
  },
  {
   "cell_type": "code",
   "execution_count": 185,
   "metadata": {},
   "outputs": [
    {
     "data": {
      "text/plain": [
       "array(['room', 'shared', 'share', 'desk', 'wedding', 'zimmer', 'flatmate',\n",
       "       'supermarkets', 'wg', 'bedrooms'], dtype='<U36')"
      ]
     },
     "execution_count": 185,
     "metadata": {},
     "output_type": "execute_result"
    }
   ],
   "source": [
    "words[low_idx]"
   ]
  },
  {
   "cell_type": "markdown",
   "metadata": {},
   "source": [
    "## Testing model with user-generated description"
   ]
  },
  {
   "cell_type": "code",
   "execution_count": 246,
   "metadata": {},
   "outputs": [],
   "source": [
    "example = [\"This is a great living envorinment. We're located in the center of Berlin. Fully redisigned interior. Local restaurants exist right outside our door\"]"
   ]
  },
  {
   "cell_type": "code",
   "execution_count": 247,
   "metadata": {},
   "outputs": [],
   "source": [
    "example_transformed = vectorizer.transform(example)"
   ]
  },
  {
   "cell_type": "code",
   "execution_count": 248,
   "metadata": {},
   "outputs": [
    {
     "data": {
      "text/plain": [
       "array([[0.19393825, 0.80606175]])"
      ]
     },
     "execution_count": 248,
     "metadata": {},
     "output_type": "execute_result"
    }
   ],
   "source": [
    "model.predict_proba(example_transformed)"
   ]
  },
  {
   "cell_type": "markdown",
   "metadata": {},
   "source": [
    "## Cleaning example of dataframe to test predictions"
   ]
  },
  {
   "cell_type": "code",
   "execution_count": 249,
   "metadata": {},
   "outputs": [],
   "source": [
    "df_example = df.head(5)"
   ]
  },
  {
   "cell_type": "code",
   "execution_count": 253,
   "metadata": {},
   "outputs": [],
   "source": [
    "df_example = df_example[['description','neighbourhood_group_cleansed','room_type','accommodates','bathrooms','bedrooms','beds',\n",
    "          'bed_type','amenities','security_deposit','cleaning_fee', 'minimum_nights', 'price']]"
   ]
  },
  {
   "cell_type": "code",
   "execution_count": 254,
   "metadata": {},
   "outputs": [
    {
     "data": {
      "text/html": [
       "<div>\n",
       "<style scoped>\n",
       "    .dataframe tbody tr th:only-of-type {\n",
       "        vertical-align: middle;\n",
       "    }\n",
       "\n",
       "    .dataframe tbody tr th {\n",
       "        vertical-align: top;\n",
       "    }\n",
       "\n",
       "    .dataframe thead th {\n",
       "        text-align: right;\n",
       "    }\n",
       "</style>\n",
       "<table border=\"1\" class=\"dataframe\">\n",
       "  <thead>\n",
       "    <tr style=\"text-align: right;\">\n",
       "      <th></th>\n",
       "      <th>description</th>\n",
       "      <th>neighbourhood_group_cleansed</th>\n",
       "      <th>room_type</th>\n",
       "      <th>accommodates</th>\n",
       "      <th>bathrooms</th>\n",
       "      <th>bedrooms</th>\n",
       "      <th>beds</th>\n",
       "      <th>bed_type</th>\n",
       "      <th>amenities</th>\n",
       "      <th>security_deposit</th>\n",
       "      <th>cleaning_fee</th>\n",
       "      <th>minimum_nights</th>\n",
       "      <th>price</th>\n",
       "    </tr>\n",
       "  </thead>\n",
       "  <tbody>\n",
       "    <tr>\n",
       "      <td>0</td>\n",
       "      <td>Great location!  30 of 75 sq meters. This wood...</td>\n",
       "      <td>Mitte</td>\n",
       "      <td>Entire home/apt</td>\n",
       "      <td>3</td>\n",
       "      <td>1.0</td>\n",
       "      <td>1.0</td>\n",
       "      <td>2.0</td>\n",
       "      <td>Real Bed</td>\n",
       "      <td>{TV,\"Cable TV\",Wifi,Kitchen,Gym,Heating,\"Famil...</td>\n",
       "      <td>$200.00</td>\n",
       "      <td>$30.00</td>\n",
       "      <td>4</td>\n",
       "      <td>$60.00</td>\n",
       "    </tr>\n",
       "    <tr>\n",
       "      <td>1</td>\n",
       "      <td>In the summertime we are spending most of our ...</td>\n",
       "      <td>Pankow</td>\n",
       "      <td>Private room</td>\n",
       "      <td>2</td>\n",
       "      <td>1.0</td>\n",
       "      <td>1.0</td>\n",
       "      <td>1.0</td>\n",
       "      <td>Real Bed</td>\n",
       "      <td>{Wifi,Kitchen,Elevator,Heating,Washer,Essentia...</td>\n",
       "      <td>$0.00</td>\n",
       "      <td>$0.00</td>\n",
       "      <td>2</td>\n",
       "      <td>$17.00</td>\n",
       "    </tr>\n",
       "    <tr>\n",
       "      <td>2</td>\n",
       "      <td>This beautiful first floor apartment  is situa...</td>\n",
       "      <td>Pankow</td>\n",
       "      <td>Entire home/apt</td>\n",
       "      <td>4</td>\n",
       "      <td>1.0</td>\n",
       "      <td>1.0</td>\n",
       "      <td>2.0</td>\n",
       "      <td>Real Bed</td>\n",
       "      <td>{Internet,Wifi,Kitchen,\"Buzzer/wireless interc...</td>\n",
       "      <td>$200.00</td>\n",
       "      <td>$50.00</td>\n",
       "      <td>62</td>\n",
       "      <td>$90.00</td>\n",
       "    </tr>\n",
       "    <tr>\n",
       "      <td>3</td>\n",
       "      <td>First of all: I prefer short-notice bookings. ...</td>\n",
       "      <td>Tempelhof - Schöneberg</td>\n",
       "      <td>Private room</td>\n",
       "      <td>2</td>\n",
       "      <td>1.0</td>\n",
       "      <td>1.0</td>\n",
       "      <td>1.0</td>\n",
       "      <td>Pull-out Sofa</td>\n",
       "      <td>{Internet,Wifi,\"Pets allowed\",\"Pets live on th...</td>\n",
       "      <td>$250.00</td>\n",
       "      <td>$30.00</td>\n",
       "      <td>5</td>\n",
       "      <td>$26.00</td>\n",
       "    </tr>\n",
       "    <tr>\n",
       "      <td>4</td>\n",
       "      <td>Cozy and large room in the beautiful district ...</td>\n",
       "      <td>Pankow</td>\n",
       "      <td>Private room</td>\n",
       "      <td>2</td>\n",
       "      <td>1.0</td>\n",
       "      <td>1.0</td>\n",
       "      <td>2.0</td>\n",
       "      <td>Real Bed</td>\n",
       "      <td>{Wifi,Heating,\"Family/kid friendly\",Essentials...</td>\n",
       "      <td>$0.00</td>\n",
       "      <td>$0.00</td>\n",
       "      <td>2</td>\n",
       "      <td>$42.00</td>\n",
       "    </tr>\n",
       "  </tbody>\n",
       "</table>\n",
       "</div>"
      ],
      "text/plain": [
       "                                         description  \\\n",
       "0  Great location!  30 of 75 sq meters. This wood...   \n",
       "1  In the summertime we are spending most of our ...   \n",
       "2  This beautiful first floor apartment  is situa...   \n",
       "3  First of all: I prefer short-notice bookings. ...   \n",
       "4  Cozy and large room in the beautiful district ...   \n",
       "\n",
       "  neighbourhood_group_cleansed        room_type  accommodates  bathrooms  \\\n",
       "0                        Mitte  Entire home/apt             3        1.0   \n",
       "1                       Pankow     Private room             2        1.0   \n",
       "2                       Pankow  Entire home/apt             4        1.0   \n",
       "3       Tempelhof - Schöneberg     Private room             2        1.0   \n",
       "4                       Pankow     Private room             2        1.0   \n",
       "\n",
       "   bedrooms  beds       bed_type  \\\n",
       "0       1.0   2.0       Real Bed   \n",
       "1       1.0   1.0       Real Bed   \n",
       "2       1.0   2.0       Real Bed   \n",
       "3       1.0   1.0  Pull-out Sofa   \n",
       "4       1.0   2.0       Real Bed   \n",
       "\n",
       "                                           amenities security_deposit  \\\n",
       "0  {TV,\"Cable TV\",Wifi,Kitchen,Gym,Heating,\"Famil...          $200.00   \n",
       "1  {Wifi,Kitchen,Elevator,Heating,Washer,Essentia...            $0.00   \n",
       "2  {Internet,Wifi,Kitchen,\"Buzzer/wireless interc...          $200.00   \n",
       "3  {Internet,Wifi,\"Pets allowed\",\"Pets live on th...          $250.00   \n",
       "4  {Wifi,Heating,\"Family/kid friendly\",Essentials...            $0.00   \n",
       "\n",
       "  cleaning_fee  minimum_nights   price  \n",
       "0       $30.00               4  $60.00  \n",
       "1        $0.00               2  $17.00  \n",
       "2       $50.00              62  $90.00  \n",
       "3       $30.00               5  $26.00  \n",
       "4        $0.00               2  $42.00  "
      ]
     },
     "execution_count": 254,
     "metadata": {},
     "output_type": "execute_result"
    }
   ],
   "source": [
    "df_example"
   ]
  },
  {
   "cell_type": "code",
   "execution_count": 255,
   "metadata": {},
   "outputs": [],
   "source": [
    "# cleaning dollar-amount columns\n",
    "monetary_columns = ['security_deposit','cleaning_fee','price']\n",
    "for item in monetary_columns:\n",
    "    df_example[item] = df_example[item].str.replace('$','').str.replace(',','').astype(float)"
   ]
  },
  {
   "cell_type": "code",
   "execution_count": 256,
   "metadata": {},
   "outputs": [],
   "source": [
    "used_amenities = ['Washer', 'Hair dryer', 'Laptop friendly workspace', 'Hangers',\n",
    "       'Iron', 'Shampoo', 'TV', 'Hot water', 'Family/kid friendly', 'Internet',\n",
    "       'Host greets you', 'Smoke detector', 'Buzzer/wireless intercom',\n",
    "       'Lock on bedroom door', 'Free street parking', 'Elevator', 'Bed linens',\n",
    "       'Smoking allowed', 'First aid kit', 'Cable TV']\n",
    "for item in used_amenities:\n",
    "    df_example[item] = df_example['amenities'].str.contains(item).astype(int)\n",
    "df_example = df_example.drop(columns='amenities')"
   ]
  },
  {
   "cell_type": "code",
   "execution_count": 257,
   "metadata": {},
   "outputs": [
    {
     "data": {
      "text/html": [
       "<div>\n",
       "<style scoped>\n",
       "    .dataframe tbody tr th:only-of-type {\n",
       "        vertical-align: middle;\n",
       "    }\n",
       "\n",
       "    .dataframe tbody tr th {\n",
       "        vertical-align: top;\n",
       "    }\n",
       "\n",
       "    .dataframe thead th {\n",
       "        text-align: right;\n",
       "    }\n",
       "</style>\n",
       "<table border=\"1\" class=\"dataframe\">\n",
       "  <thead>\n",
       "    <tr style=\"text-align: right;\">\n",
       "      <th></th>\n",
       "      <th>description</th>\n",
       "      <th>neighbourhood_group_cleansed</th>\n",
       "      <th>room_type</th>\n",
       "      <th>accommodates</th>\n",
       "      <th>bathrooms</th>\n",
       "      <th>bedrooms</th>\n",
       "      <th>beds</th>\n",
       "      <th>bed_type</th>\n",
       "      <th>security_deposit</th>\n",
       "      <th>cleaning_fee</th>\n",
       "      <th>minimum_nights</th>\n",
       "      <th>price</th>\n",
       "      <th>Washer</th>\n",
       "      <th>Hair dryer</th>\n",
       "      <th>Laptop friendly workspace</th>\n",
       "      <th>Hangers</th>\n",
       "      <th>Iron</th>\n",
       "      <th>Shampoo</th>\n",
       "      <th>TV</th>\n",
       "      <th>Hot water</th>\n",
       "      <th>Family/kid friendly</th>\n",
       "      <th>Internet</th>\n",
       "      <th>Host greets you</th>\n",
       "      <th>Smoke detector</th>\n",
       "      <th>Buzzer/wireless intercom</th>\n",
       "      <th>Lock on bedroom door</th>\n",
       "      <th>Free street parking</th>\n",
       "      <th>Elevator</th>\n",
       "      <th>Bed linens</th>\n",
       "      <th>Smoking allowed</th>\n",
       "      <th>First aid kit</th>\n",
       "      <th>Cable TV</th>\n",
       "    </tr>\n",
       "  </thead>\n",
       "  <tbody>\n",
       "    <tr>\n",
       "      <td>0</td>\n",
       "      <td>Great location!  30 of 75 sq meters. This wood...</td>\n",
       "      <td>Mitte</td>\n",
       "      <td>Entire home/apt</td>\n",
       "      <td>3</td>\n",
       "      <td>1.0</td>\n",
       "      <td>1.0</td>\n",
       "      <td>2.0</td>\n",
       "      <td>Real Bed</td>\n",
       "      <td>200.0</td>\n",
       "      <td>30.0</td>\n",
       "      <td>4</td>\n",
       "      <td>60.0</td>\n",
       "      <td>0</td>\n",
       "      <td>1</td>\n",
       "      <td>1</td>\n",
       "      <td>1</td>\n",
       "      <td>1</td>\n",
       "      <td>1</td>\n",
       "      <td>1</td>\n",
       "      <td>1</td>\n",
       "      <td>1</td>\n",
       "      <td>0</td>\n",
       "      <td>0</td>\n",
       "      <td>1</td>\n",
       "      <td>0</td>\n",
       "      <td>1</td>\n",
       "      <td>0</td>\n",
       "      <td>0</td>\n",
       "      <td>1</td>\n",
       "      <td>0</td>\n",
       "      <td>0</td>\n",
       "      <td>1</td>\n",
       "    </tr>\n",
       "    <tr>\n",
       "      <td>1</td>\n",
       "      <td>In the summertime we are spending most of our ...</td>\n",
       "      <td>Pankow</td>\n",
       "      <td>Private room</td>\n",
       "      <td>2</td>\n",
       "      <td>1.0</td>\n",
       "      <td>1.0</td>\n",
       "      <td>1.0</td>\n",
       "      <td>Real Bed</td>\n",
       "      <td>0.0</td>\n",
       "      <td>0.0</td>\n",
       "      <td>2</td>\n",
       "      <td>17.0</td>\n",
       "      <td>1</td>\n",
       "      <td>1</td>\n",
       "      <td>1</td>\n",
       "      <td>0</td>\n",
       "      <td>0</td>\n",
       "      <td>1</td>\n",
       "      <td>0</td>\n",
       "      <td>0</td>\n",
       "      <td>0</td>\n",
       "      <td>0</td>\n",
       "      <td>0</td>\n",
       "      <td>0</td>\n",
       "      <td>0</td>\n",
       "      <td>0</td>\n",
       "      <td>0</td>\n",
       "      <td>1</td>\n",
       "      <td>0</td>\n",
       "      <td>0</td>\n",
       "      <td>0</td>\n",
       "      <td>0</td>\n",
       "    </tr>\n",
       "    <tr>\n",
       "      <td>2</td>\n",
       "      <td>This beautiful first floor apartment  is situa...</td>\n",
       "      <td>Pankow</td>\n",
       "      <td>Entire home/apt</td>\n",
       "      <td>4</td>\n",
       "      <td>1.0</td>\n",
       "      <td>1.0</td>\n",
       "      <td>2.0</td>\n",
       "      <td>Real Bed</td>\n",
       "      <td>200.0</td>\n",
       "      <td>50.0</td>\n",
       "      <td>62</td>\n",
       "      <td>90.0</td>\n",
       "      <td>1</td>\n",
       "      <td>1</td>\n",
       "      <td>1</td>\n",
       "      <td>1</td>\n",
       "      <td>1</td>\n",
       "      <td>1</td>\n",
       "      <td>0</td>\n",
       "      <td>0</td>\n",
       "      <td>1</td>\n",
       "      <td>1</td>\n",
       "      <td>0</td>\n",
       "      <td>1</td>\n",
       "      <td>1</td>\n",
       "      <td>0</td>\n",
       "      <td>0</td>\n",
       "      <td>0</td>\n",
       "      <td>0</td>\n",
       "      <td>0</td>\n",
       "      <td>1</td>\n",
       "      <td>0</td>\n",
       "    </tr>\n",
       "    <tr>\n",
       "      <td>3</td>\n",
       "      <td>First of all: I prefer short-notice bookings. ...</td>\n",
       "      <td>Tempelhof - Schöneberg</td>\n",
       "      <td>Private room</td>\n",
       "      <td>2</td>\n",
       "      <td>1.0</td>\n",
       "      <td>1.0</td>\n",
       "      <td>1.0</td>\n",
       "      <td>Pull-out Sofa</td>\n",
       "      <td>250.0</td>\n",
       "      <td>30.0</td>\n",
       "      <td>5</td>\n",
       "      <td>26.0</td>\n",
       "      <td>1</td>\n",
       "      <td>1</td>\n",
       "      <td>1</td>\n",
       "      <td>1</td>\n",
       "      <td>1</td>\n",
       "      <td>1</td>\n",
       "      <td>0</td>\n",
       "      <td>1</td>\n",
       "      <td>0</td>\n",
       "      <td>1</td>\n",
       "      <td>1</td>\n",
       "      <td>1</td>\n",
       "      <td>1</td>\n",
       "      <td>0</td>\n",
       "      <td>1</td>\n",
       "      <td>0</td>\n",
       "      <td>1</td>\n",
       "      <td>0</td>\n",
       "      <td>0</td>\n",
       "      <td>0</td>\n",
       "    </tr>\n",
       "    <tr>\n",
       "      <td>4</td>\n",
       "      <td>Cozy and large room in the beautiful district ...</td>\n",
       "      <td>Pankow</td>\n",
       "      <td>Private room</td>\n",
       "      <td>2</td>\n",
       "      <td>1.0</td>\n",
       "      <td>1.0</td>\n",
       "      <td>2.0</td>\n",
       "      <td>Real Bed</td>\n",
       "      <td>0.0</td>\n",
       "      <td>0.0</td>\n",
       "      <td>2</td>\n",
       "      <td>42.0</td>\n",
       "      <td>0</td>\n",
       "      <td>1</td>\n",
       "      <td>1</td>\n",
       "      <td>1</td>\n",
       "      <td>0</td>\n",
       "      <td>1</td>\n",
       "      <td>0</td>\n",
       "      <td>1</td>\n",
       "      <td>1</td>\n",
       "      <td>0</td>\n",
       "      <td>0</td>\n",
       "      <td>0</td>\n",
       "      <td>0</td>\n",
       "      <td>0</td>\n",
       "      <td>0</td>\n",
       "      <td>0</td>\n",
       "      <td>1</td>\n",
       "      <td>0</td>\n",
       "      <td>0</td>\n",
       "      <td>0</td>\n",
       "    </tr>\n",
       "  </tbody>\n",
       "</table>\n",
       "</div>"
      ],
      "text/plain": [
       "                                         description  \\\n",
       "0  Great location!  30 of 75 sq meters. This wood...   \n",
       "1  In the summertime we are spending most of our ...   \n",
       "2  This beautiful first floor apartment  is situa...   \n",
       "3  First of all: I prefer short-notice bookings. ...   \n",
       "4  Cozy and large room in the beautiful district ...   \n",
       "\n",
       "  neighbourhood_group_cleansed        room_type  accommodates  bathrooms  \\\n",
       "0                        Mitte  Entire home/apt             3        1.0   \n",
       "1                       Pankow     Private room             2        1.0   \n",
       "2                       Pankow  Entire home/apt             4        1.0   \n",
       "3       Tempelhof - Schöneberg     Private room             2        1.0   \n",
       "4                       Pankow     Private room             2        1.0   \n",
       "\n",
       "   bedrooms  beds       bed_type  security_deposit  cleaning_fee  \\\n",
       "0       1.0   2.0       Real Bed             200.0          30.0   \n",
       "1       1.0   1.0       Real Bed               0.0           0.0   \n",
       "2       1.0   2.0       Real Bed             200.0          50.0   \n",
       "3       1.0   1.0  Pull-out Sofa             250.0          30.0   \n",
       "4       1.0   2.0       Real Bed               0.0           0.0   \n",
       "\n",
       "   minimum_nights  price  Washer  Hair dryer  Laptop friendly workspace  \\\n",
       "0               4   60.0       0           1                          1   \n",
       "1               2   17.0       1           1                          1   \n",
       "2              62   90.0       1           1                          1   \n",
       "3               5   26.0       1           1                          1   \n",
       "4               2   42.0       0           1                          1   \n",
       "\n",
       "   Hangers  Iron  Shampoo  TV  Hot water  Family/kid friendly  Internet  \\\n",
       "0        1     1        1   1          1                    1         0   \n",
       "1        0     0        1   0          0                    0         0   \n",
       "2        1     1        1   0          0                    1         1   \n",
       "3        1     1        1   0          1                    0         1   \n",
       "4        1     0        1   0          1                    1         0   \n",
       "\n",
       "   Host greets you  Smoke detector  Buzzer/wireless intercom  \\\n",
       "0                0               1                         0   \n",
       "1                0               0                         0   \n",
       "2                0               1                         1   \n",
       "3                1               1                         1   \n",
       "4                0               0                         0   \n",
       "\n",
       "   Lock on bedroom door  Free street parking  Elevator  Bed linens  \\\n",
       "0                     1                    0         0           1   \n",
       "1                     0                    0         1           0   \n",
       "2                     0                    0         0           0   \n",
       "3                     0                    1         0           1   \n",
       "4                     0                    0         0           1   \n",
       "\n",
       "   Smoking allowed  First aid kit  Cable TV  \n",
       "0                0              0         1  \n",
       "1                0              0         0  \n",
       "2                0              1         0  \n",
       "3                0              0         0  \n",
       "4                0              0         0  "
      ]
     },
     "execution_count": 257,
     "metadata": {},
     "output_type": "execute_result"
    }
   ],
   "source": [
    "df_example"
   ]
  },
  {
   "cell_type": "markdown",
   "metadata": {},
   "source": [
    "# First predicting the price range, then offering a recommendation on where to select in the range based on the NLP prediction"
   ]
  },
  {
   "cell_type": "code",
   "execution_count": 259,
   "metadata": {},
   "outputs": [],
   "source": [
    "import pickle"
   ]
  },
  {
   "cell_type": "code",
   "execution_count": 261,
   "metadata": {},
   "outputs": [],
   "source": [
    "price_model = pickle.load(open('model.pkl', 'rb'))"
   ]
  },
  {
   "cell_type": "code",
   "execution_count": 262,
   "metadata": {},
   "outputs": [],
   "source": [
    "# Dropping columns to use with price prediction model\n",
    "df_price_prediction = df_example.drop(columns=['description','price'])"
   ]
  },
  {
   "cell_type": "code",
   "execution_count": 275,
   "metadata": {},
   "outputs": [],
   "source": [
    "price_predictions = price_model.predict(df_price_prediction)"
   ]
  },
  {
   "cell_type": "code",
   "execution_count": 276,
   "metadata": {},
   "outputs": [
    {
     "data": {
      "text/plain": [
       "array([76.14437 , 36.75857 , 74.26539 , 37.7499  , 38.892452],\n",
       "      dtype=float32)"
      ]
     },
     "execution_count": 276,
     "metadata": {},
     "output_type": "execute_result"
    }
   ],
   "source": [
    "price_predictions"
   ]
  },
  {
   "cell_type": "code",
   "execution_count": 266,
   "metadata": {},
   "outputs": [],
   "source": [
    "df_above_median = df_example[['description','bedrooms']]\n",
    "df_above_median['price'] = price_predictions"
   ]
  },
  {
   "cell_type": "code",
   "execution_count": 277,
   "metadata": {},
   "outputs": [],
   "source": [
    "df_example_description_transformed = vectorizer.transform(df_example['description'])\n",
    "predict_probas = model.predict_proba(df_example_description_transformed)"
   ]
  },
  {
   "cell_type": "code",
   "execution_count": 290,
   "metadata": {},
   "outputs": [
    {
     "data": {
      "text/plain": [
       "array([[0.3407018 , 0.6592982 ],\n",
       "       [0.70646548, 0.29353452],\n",
       "       [0.21735763, 0.78264237],\n",
       "       [0.62607432, 0.37392568],\n",
       "       [0.6621181 , 0.3378819 ]])"
      ]
     },
     "execution_count": 290,
     "metadata": {},
     "output_type": "execute_result"
    }
   ],
   "source": [
    "predict_probas"
   ]
  },
  {
   "cell_type": "code",
   "execution_count": 289,
   "metadata": {},
   "outputs": [
    {
     "data": {
      "text/plain": [
       "array([0.6592982 , 0.29353452, 0.78264237, 0.37392568, 0.3378819 ])"
      ]
     },
     "execution_count": 289,
     "metadata": {},
     "output_type": "execute_result"
    }
   ],
   "source": [
    "predict_probas[:, 1]"
   ]
  },
  {
   "cell_type": "code",
   "execution_count": 279,
   "metadata": {},
   "outputs": [],
   "source": [
    "d = {'predicted_prices': price_predictions, 'probability_above_median': predict_probas}"
   ]
  },
  {
   "cell_type": "code",
   "execution_count": 284,
   "metadata": {},
   "outputs": [],
   "source": [
    "predictions_df = df_price_prediction.copy()"
   ]
  },
  {
   "cell_type": "code",
   "execution_count": 286,
   "metadata": {},
   "outputs": [],
   "source": [
    "predictions_df['predicted_prices'] = price_predictions\n",
    "predictions_df['probability_above_median'] = predict_probas[:, 1]"
   ]
  },
  {
   "cell_type": "code",
   "execution_count": 296,
   "metadata": {},
   "outputs": [],
   "source": [
    "preds_df = predictions_df[['predicted_prices','probability_above_median']]"
   ]
  },
  {
   "cell_type": "code",
   "execution_count": 297,
   "metadata": {},
   "outputs": [],
   "source": [
    "preds_df['price_range_low'] = preds_df['predicted_prices'].apply(lambda x: x * .8)\n",
    "preds_df['price_range_high'] = preds_df['predicted_prices'].apply(lambda x: x * 1.2)"
   ]
  },
  {
   "cell_type": "code",
   "execution_count": 299,
   "metadata": {},
   "outputs": [
    {
     "data": {
      "text/html": [
       "<div>\n",
       "<style scoped>\n",
       "    .dataframe tbody tr th:only-of-type {\n",
       "        vertical-align: middle;\n",
       "    }\n",
       "\n",
       "    .dataframe tbody tr th {\n",
       "        vertical-align: top;\n",
       "    }\n",
       "\n",
       "    .dataframe thead th {\n",
       "        text-align: right;\n",
       "    }\n",
       "</style>\n",
       "<table border=\"1\" class=\"dataframe\">\n",
       "  <thead>\n",
       "    <tr style=\"text-align: right;\">\n",
       "      <th></th>\n",
       "      <th>predicted_prices</th>\n",
       "      <th>probability_above_median</th>\n",
       "      <th>price_range_low</th>\n",
       "      <th>price_range_high</th>\n",
       "    </tr>\n",
       "  </thead>\n",
       "  <tbody>\n",
       "    <tr>\n",
       "      <td>0</td>\n",
       "      <td>76.144371</td>\n",
       "      <td>0.659298</td>\n",
       "      <td>60.915497</td>\n",
       "      <td>91.373245</td>\n",
       "    </tr>\n",
       "    <tr>\n",
       "      <td>1</td>\n",
       "      <td>36.758572</td>\n",
       "      <td>0.293535</td>\n",
       "      <td>29.406857</td>\n",
       "      <td>44.110286</td>\n",
       "    </tr>\n",
       "    <tr>\n",
       "      <td>2</td>\n",
       "      <td>74.265388</td>\n",
       "      <td>0.782642</td>\n",
       "      <td>59.412311</td>\n",
       "      <td>89.118466</td>\n",
       "    </tr>\n",
       "    <tr>\n",
       "      <td>3</td>\n",
       "      <td>37.749901</td>\n",
       "      <td>0.373926</td>\n",
       "      <td>30.199921</td>\n",
       "      <td>45.299881</td>\n",
       "    </tr>\n",
       "    <tr>\n",
       "      <td>4</td>\n",
       "      <td>38.892452</td>\n",
       "      <td>0.337882</td>\n",
       "      <td>31.113962</td>\n",
       "      <td>46.670943</td>\n",
       "    </tr>\n",
       "  </tbody>\n",
       "</table>\n",
       "</div>"
      ],
      "text/plain": [
       "   predicted_prices  probability_above_median  price_range_low  \\\n",
       "0         76.144371                  0.659298        60.915497   \n",
       "1         36.758572                  0.293535        29.406857   \n",
       "2         74.265388                  0.782642        59.412311   \n",
       "3         37.749901                  0.373926        30.199921   \n",
       "4         38.892452                  0.337882        31.113962   \n",
       "\n",
       "   price_range_high  \n",
       "0         91.373245  \n",
       "1         44.110286  \n",
       "2         89.118466  \n",
       "3         45.299881  \n",
       "4         46.670943  "
      ]
     },
     "execution_count": 299,
     "metadata": {},
     "output_type": "execute_result"
    }
   ],
   "source": [
    "preds_df"
   ]
  },
  {
   "cell_type": "code",
   "execution_count": 309,
   "metadata": {},
   "outputs": [],
   "source": [
    "def price_range_recommendation(df):\n",
    "    upper_range = int(df['price_range_high'])\n",
    "    lower_range = int(df['price_range_low'])\n",
    "    proba = df['probability_above_median']\n",
    "    if proba < 0.20:\n",
    "        message = \"the low end of that range.\"\n",
    "    elif proba >= 0.20 and proba < 0.4:\n",
    "        message = \"the medium-low end of that range.\"\n",
    "    elif proba >=0.4 and proba < 0.6:\n",
    "        message = \"about the middle of that range.\"\n",
    "    elif proba >=0.6 and proba < 0.8:\n",
    "        message = \"the medium-high end of that range.\"\n",
    "    elif proba >= 0.8:\n",
    "        message = \"the high end of the range\"\n",
    "    print(f'Based on your inputs, the model recommends your unit cost between ${lower_range} and ${upper_range}.')\n",
    "    print(f'Based on your text discription, the model recommends you select a price at {message}')\n",
    "    "
   ]
  },
  {
   "cell_type": "code",
   "execution_count": 311,
   "metadata": {},
   "outputs": [
    {
     "name": "stdout",
     "output_type": "stream",
     "text": [
      "Based on your inputs, the model recommends your unit cost between $60 and $91.\n",
      "Based on your text discription, the model recommends you select a price at the medium-high end of that range.\n"
     ]
    }
   ],
   "source": [
    "price_range_recommendation(preds_df.iloc[0])"
   ]
  },
  {
   "cell_type": "code",
   "execution_count": null,
   "metadata": {},
   "outputs": [],
   "source": []
  }
 ],
 "metadata": {
  "kernelspec": {
   "display_name": "Python 3",
   "language": "python",
   "name": "python3"
  },
  "language_info": {
   "codemirror_mode": {
    "name": "ipython",
    "version": 3
   },
   "file_extension": ".py",
   "mimetype": "text/x-python",
   "name": "python",
   "nbconvert_exporter": "python",
   "pygments_lexer": "ipython3",
   "version": "3.7.4"
  }
 },
 "nbformat": 4,
 "nbformat_minor": 4
}
